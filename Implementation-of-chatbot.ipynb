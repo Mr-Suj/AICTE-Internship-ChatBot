{
 "cells": [
  {
   "cell_type": "code",
   "execution_count": 1,
   "id": "831f2f3d-0caf-4805-ba04-d8e611553396",
   "metadata": {},
   "outputs": [],
   "source": [
    "import nltk\n",
    "import random\n",
    "import os\n",
    "import ssl\n",
    "import streamlit as st\n",
    "from sklearn.feature_extraction.text import TfidfVectorizer\n",
    "from sklearn.linear_model import LogisticRegression"
   ]
  },
  {
   "cell_type": "code",
   "execution_count": 2,
   "id": "0aea9c28-9e99-4c6f-85b1-7cfe24a04178",
   "metadata": {},
   "outputs": [
    {
     "name": "stderr",
     "output_type": "stream",
     "text": [
      "[nltk_data] Downloading package punkt to\n",
      "[nltk_data]     C:\\Users\\sujal\\AppData\\Roaming\\nltk_data...\n",
      "[nltk_data]   Package punkt is already up-to-date!\n"
     ]
    },
    {
     "data": {
      "text/plain": [
       "True"
      ]
     },
     "execution_count": 2,
     "metadata": {},
     "output_type": "execute_result"
    }
   ],
   "source": [
    "ssl._create_default_https_context = ssl._create_unverified_context\n",
    "nltk.data.path.append(os.path.abspath('nltk_data'))\n",
    "nltk.download('punkt')"
   ]
  },
  {
   "cell_type": "code",
   "execution_count": 3,
   "id": "30438eb1-92fb-4c23-861c-7b63b8b5546f",
   "metadata": {},
   "outputs": [],
   "source": [
    "intents = [\n",
    "    {\n",
    "        'tag': 'greeting',\n",
    "        'patterns': ['Hi', 'Hello', 'Hey', 'Whats up', 'How are you'],\n",
    "        'responses': ['Hi there', 'Hello', 'Hey', 'Nothing much', 'I\\'m fine, thank you']\n",
    "    },\n",
    "    {\n",
    "        'tag': 'goodbye',\n",
    "        'patterns': ['Bye', 'See you later', 'Goodbye', 'Take care'],\n",
    "        'responses': ['Goodbye', 'See you later', 'Take care']\n",
    "    },\n",
    "    {\n",
    "        \"tag\": \"thanks\",\n",
    "        \"patterns\": [\"Thank you\", \"Thanks\", \"Thanks a lot\", \"I appreciate it\"],\n",
    "        \"responses\": [\"You're welcome\", \"No problem\", \"Glad I could help\"]\n",
    "    },\n",
    "    {\n",
    "        \"tag\": \"about\",\n",
    "        \"patterns\": [\"What can you do\", \"Who are you\", \"What are you\", \"What is your purpose\"],\n",
    "        \"responses\": [\"I am a chatbot\", \"My purpose is to assist you\", \"I can answer questions and provide assistance\"]\n",
    "    },\n",
    "    {\n",
    "        \"tag\": \"help\",\n",
    "        \"patterns\": [\"Help\", \"I need help\", \"Can you help me\", \"What should I do\"],\n",
    "        \"responses\": [\"Sure, what do you need help with?\", \"I'm here to help. What's the problem?\", \"How can I assist you?\"]\n",
    "    },\n",
    "    {\n",
    "        \"tag\": \"age\",\n",
    "        \"patterns\": [\"How old are you\", \"What's your age\"],\n",
    "        \"responses\": [\"I don't have an age. I'm a chatbot.\", \"I was just born in the digital world.\", \"Age is just a number for me.\"]\n",
    "    },\n",
    "    {\n",
    "        \"tag\": \"weather\",\n",
    "        \"patterns\": [\"What's the weather like\", \"How's the weather today\"],\n",
    "        \"responses\": [\"I'm sorry, I cannot provide real-time weather information.\", \"You can check the weather on a weather app or website.\"]\n",
    "    },\n",
    "    {\n",
    "        \"tag\": \"budget\",\n",
    "        \"patterns\": [\"How can I make a budget\", \"What's a good budgeting strategy\", \"How do I create a budget\"],\n",
    "        \"responses\": [\"To make a budget, start by tracking your income and expenses. Then, allocate your income towards essential expenses like rent, food, and bills. Next, allocate some of your income towards savings and debt repayment. Finally, allocate the remainder of your income towards discretionary expenses like entertainment and hobbies.\", \"A good budgeting strategy is to use the 50/30/20 rule. This means allocating 50% of your income towards essential expenses, 30% towards discretionary expenses, and 20% towards savings and debt repayment.\", \"To create a budget, start by setting financial goals for yourself. Then, track your income and expenses for a few months to get a sense of where your money is going. Next, create a budget by allocating your income towards essential expenses, savings and debt repayment, and discretionary expenses.\"]\n",
    "    },\n",
    "    {\n",
    "        \"tag\": \"credit_score\",\n",
    "        \"patterns\": [\"What is a credit score\", \"How do I check my credit score\", \"How can I improve my credit score\"],\n",
    "        \"responses\": [\"A credit score is a number that represents your creditworthiness. It is based on your credit history and is used by lenders to determine whether or not to lend you money. The higher your credit score, the more likely you are to be approved for credit.\", \"You can check your credit score for free on several websites such as Credit Karma and Credit Sesame.\"]\n",
    "    },\n",
    "    {\n",
    "        \"tag\": \"investment\",\n",
    "        \"patterns\": [\"How do I start investing?\", \"What are good investments?\", \"Where should I invest my money?\"],\n",
    "        \"responses\": [\"Start by researching different investment options such as stocks, bonds, real estate, and mutual funds. Consider diversifying your investments to minimize risk.\", \"Good investments depend on your financial goals and risk tolerance. Stocks, real estate, and retirement funds are popular choices.\", \"You can invest in stocks, ETFs, bonds, or even real estate depending on your financial goals and risk level.\"]\n",
    "    },\n",
    "    {\n",
    "        \"tag\": \"fitness\",\n",
    "        \"patterns\": [\"How can I lose weight?\", \"What are the best exercises?\", \"How do I build muscle?\"],\n",
    "        \"responses\": [\"To lose weight, focus on a balanced diet and regular exercise, including cardio and strength training.\", \"The best exercises depend on your goals. Strength training, cardio, and flexibility exercises are great for overall fitness.\", \"Building muscle requires a combination of resistance training and a high-protein diet.\"]\n",
    "    },\n",
    "    {\n",
    "        \"tag\": \"mental_health\",\n",
    "        \"patterns\": [\"How can I reduce stress?\", \"What are ways to stay happy?\", \"How do I deal with anxiety?\"],\n",
    "        \"responses\": [\"Practicing mindfulness, exercising regularly, and maintaining a healthy lifestyle can help reduce stress.\", \"Staying happy involves maintaining good relationships, setting goals, and practicing gratitude.\", \"If you're dealing with anxiety, deep breathing, meditation, and talking to a professional can help.\"]\n",
    "    },\n",
    "    {\n",
    "        \"tag\": \"technology\",\n",
    "        \"patterns\": [\"What is AI?\", \"How does a computer work?\", \"What is machine learning?\"],\n",
    "        \"responses\": [\"AI stands for Artificial Intelligence, which enables machines to learn and make decisions.\", \"A computer processes data using a combination of hardware and software to perform tasks.\", \"Machine learning is a branch of AI that enables computers to learn from data and improve their performance over time.\"]\n",
    "    },\n",
    "    {\n",
    "        \"tag\": \"movies\",\n",
    "        \"patterns\": [\"What are the best movies of all time?\", \"Can you recommend a good movie?\", \"What's a great movie to watch?\"],\n",
    "        \"responses\": [\"Some of the best movies include The Godfather, The Dark Knight, and Inception.\", \"Sure! If you like action, try John Wick. If you prefer sci-fi, check out Interstellar.\", \"A great movie to watch depends on your taste. Do you prefer action, drama, or comedy?\"]\n",
    "    },\n",
    "    {\n",
    "        \"tag\": \"sports\",\n",
    "        \"patterns\": [\"Who won the last Super Bowl?\", \"What is the best football team?\", \"How do I play basketball?\"],\n",
    "        \"responses\": [\"You can check the latest Super Bowl results online.\", \"The best football team depends on the season and personal preference!\", \"Basketball is played by shooting the ball into the opponent's hoop while following dribbling and passing rules.\"]\n",
    "    },\n",
    "    {\n",
    "        \"tag\": \"travel\",\n",
    "        \"patterns\": [\"Where should I travel?\", \"What are the best vacation spots?\", \"How do I find cheap flights?\"],\n",
    "        \"responses\": [\"Great travel destinations include Paris, Tokyo, and Bali.\", \"The best vacation spots depend on your preferences—beach, mountains, or city?\", \"You can find cheap flights by using fare comparison websites and booking in advance.\"]\n",
    "    },\n",
    "    {\n",
    "        \"tag\": \"food\",\n",
    "        \"patterns\": [\"What should I cook today?\", \"Can you recommend a good recipe?\", \"What's the best way to cook steak?\"],\n",
    "        \"responses\": [\"Try making a simple pasta dish or a stir-fry!\", \"Sure! How about a delicious homemade pizza recipe?\", \"For a perfect steak, sear it on high heat and let it rest before serving.\"]\n",
    "    }\n",
    "]\n"
   ]
  },
  {
   "cell_type": "code",
   "execution_count": null,
   "id": "1cf18238-e012-47ef-8b95-0984aac30161",
   "metadata": {},
   "outputs": [],
   "source": []
  }
 ],
 "metadata": {
  "kernelspec": {
   "display_name": "Python 3 (ipykernel)",
   "language": "python",
   "name": "python3"
  },
  "language_info": {
   "codemirror_mode": {
    "name": "ipython",
    "version": 3
   },
   "file_extension": ".py",
   "mimetype": "text/x-python",
   "name": "python",
   "nbconvert_exporter": "python",
   "pygments_lexer": "ipython3",
   "version": "3.13.0"
  }
 },
 "nbformat": 4,
 "nbformat_minor": 5
}
